{
 "cells": [
  {
   "cell_type": "markdown",
   "metadata": {},
   "source": [
    "# 🧠 Deepfake Detection with Custom CNN (PyTorch)\n",
    "This notebook includes:\n",
    "- Data loading\n",
    "- CNN model with Dropout\n",
    "- Training loop\n",
    "- Validation & Test accuracy\n",
    "- Saving model as `.pth`\n"
   ]
  },
  {
   "cell_type": "code",
   "metadata": {
    "ExecuteTime": {
     "end_time": "2025-04-11T22:36:33.199268Z",
     "start_time": "2025-04-11T22:36:23.742358Z"
    }
   },
   "source": [
    "import os\n",
    "import torch\n",
    "import torch.nn as nn\n",
    "import torch.optim as optim\n",
    "from torchvision import datasets, transforms\n",
    "from torch.utils.data import DataLoader\n",
    "import matplotlib.pyplot as plt\n",
    "\n",
    "device = torch.device(\"cuda\" if torch.cuda.is_available() else \"cpu\")\n",
    "print(f\"Using device: {device}\")"
   ],
   "outputs": [
    {
     "name": "stdout",
     "output_type": "stream",
     "text": [
      "Using device: cuda\n"
     ]
    }
   ],
   "execution_count": 2
  },
  {
   "cell_type": "code",
   "metadata": {
    "ExecuteTime": {
     "end_time": "2025-04-11T22:36:35.846660Z",
     "start_time": "2025-04-11T22:36:33.199268Z"
    }
   },
   "source": [
    "data_dir = r'C:\\Users\\admin\\Desktop\\yapa zeka\\deepfake_split_dataset'\n",
    "\n",
    "transform = transforms.Compose([\n",
    "    transforms.Resize((128, 128)),\n",
    "    transforms.ToTensor(),\n",
    "    transforms.Normalize([0.5], [0.5])\n",
    "])\n",
    "\n",
    "train_dataset = datasets.ImageFolder(os.path.join(data_dir, 'train'), transform=transform)\n",
    "val_dataset = datasets.ImageFolder(os.path.join(data_dir, 'val'), transform=transform)\n",
    "test_dataset = datasets.ImageFolder(os.path.join(data_dir, 'test'), transform=transform)\n",
    "\n",
    "train_loader = DataLoader(train_dataset, batch_size=32, shuffle=True)\n",
    "val_loader = DataLoader(val_dataset, batch_size=32, shuffle=False)\n",
    "test_loader = DataLoader(test_dataset, batch_size=32, shuffle=False)"
   ],
   "outputs": [],
   "execution_count": 3
  },
  {
   "cell_type": "code",
   "metadata": {
    "ExecuteTime": {
     "end_time": "2025-04-11T22:36:35.917508Z",
     "start_time": "2025-04-11T22:36:35.894765Z"
    }
   },
   "source": [
    "# 🧠 Define custom CNN model with Dropout\n",
    "class MyCNN(nn.Module):\n",
    "    def __init__(self):\n",
    "        super(MyCNN, self).__init__()\n",
    "        self.conv_layers = nn.Sequential(\n",
    "            nn.Conv2d(3, 32, kernel_size=3, padding=1),\n",
    "            nn.ReLU(),\n",
    "            nn.MaxPool2d(2, 2),\n",
    "\n",
    "            nn.Conv2d(32, 64, kernel_size=3, padding=1),\n",
    "            nn.ReLU(),\n",
    "            nn.MaxPool2d(2, 2),\n",
    "            nn.Dropout(0.25),\n",
    "\n",
    "            nn.Conv2d(64, 128, kernel_size=3, padding=1),\n",
    "            nn.ReLU(),\n",
    "            nn.MaxPool2d(2, 2),\n",
    "        )\n",
    "        self.fc_layers = nn.Sequential(\n",
    "            nn.Flatten(),\n",
    "            nn.Linear(128 * 16 * 16, 256),\n",
    "            nn.ReLU(),\n",
    "            nn.Dropout(0.5),\n",
    "            nn.Linear(256, 2)\n",
    "        )\n",
    "\n",
    "    def forward(self, x):\n",
    "        x = self.conv_layers(x)\n",
    "        x = self.fc_layers(x)\n",
    "        return x"
   ],
   "outputs": [],
   "execution_count": 4
  },
  {
   "cell_type": "code",
   "metadata": {
    "ExecuteTime": {
     "end_time": "2025-04-12T01:09:26.366020Z",
     "start_time": "2025-04-11T22:46:23.049316Z"
    }
   },
   "source": [
    "from tqdm import tqdm\n",
    "\n",
    "# 🚀 Train the model\n",
    "model = MyCNN().to(device)\n",
    "criterion = nn.CrossEntropyLoss()\n",
    "optimizer = optim.Adam(model.parameters(), lr=0.001)\n",
    "\n",
    "num_epochs = 30  # 5 epochs\n",
    "train_losses, val_losses = [], []\n",
    "\n",
    "for epoch in range(num_epochs):\n",
    "    model.train()\n",
    "    running_loss = 0.0\n",
    "    correct_train, total_train = 0, 0\n",
    "    \n",
    "    with tqdm(train_loader, desc=f'Training Epoch {epoch+1}/{num_epochs}', unit='batch', ncols=100) as pbar:\n",
    "        for images, labels in pbar:\n",
    "            images, labels = images.to(device), labels.to(device) # Verileri grafik kartına aktarın\n",
    "            optimizer.zero_grad()                           # Önceki gradyanları sıfırla\n",
    "            outputs = model(images)                         # Form içerisinde veri aktarımı\n",
    "            loss = criterion(outputs, labels)\n",
    "            loss.backward()\n",
    "            optimizer.step()                                # Ağırlıkları güncelle\n",
    "            running_loss += loss.item()\n",
    "            \n",
    "            _, preds = torch.max(outputs, 1)\n",
    "            correct_train += (preds == labels).sum().item()\n",
    "            total_train += labels.size(0)\n",
    "            \n",
    "            train_accuracy = 100 * correct_train / total_train\n",
    "            pbar.set_postfix(train_loss=running_loss / (total_train // len(labels)), train_acc=f'{train_accuracy:.4f}%')\n",
    "    \n",
    "    train_losses.append(running_loss / len(train_loader))\n",
    "\n",
    "    model.eval()\n",
    "    val_loss, correct, total = 0.0, 0, 0\n",
    "\n",
    "    with tqdm(val_loader, desc=f'Validation Epoch {epoch+1}/{num_epochs}', unit='batch', ncols=100) as pbar:\n",
    "        with torch.no_grad():\n",
    "            for images, labels in pbar:\n",
    "                images, labels = images.to(device), labels.to(device)\n",
    "                outputs = model(images)\n",
    "                loss = criterion(outputs, labels)\n",
    "                val_loss += loss.item()\n",
    "                \n",
    "                _, preds = torch.max(outputs, 1)\n",
    "                correct += (preds == labels).sum().item()\n",
    "                total += labels.size(0)\n",
    "                \n",
    "                val_accuracy = 100 * correct / total\n",
    "                pbar.set_postfix(val_loss=val_loss / (total // len(labels)), val_acc=f'{val_accuracy:.4f}%')\n",
    "    \n",
    "    val_losses.append(val_loss / len(val_loader))\n",
    "    acc = 100 * correct / total\n",
    "    print(f\"Epoch {epoch+1}/{num_epochs} - Train Loss: {train_losses[-1]:.4f}, Val Acc: {acc:.2f}%\")\n"
   ],
   "outputs": [
    {
     "name": "stderr",
     "output_type": "stream",
     "text": [
      "Training Epoch 1/30: 100%|█| 4218/4218 [05:20<00:00, 13.15batch/s, train_acc=84.9491%, train_loss=0.\n",
      "Validation Epoch 1/30: 100%|█| 528/528 [00:49<00:00, 10.56batch/s, val_acc=96.3545%, val_loss=0.0186\n"
     ]
    },
    {
     "name": "stdout",
     "output_type": "stream",
     "text": [
      "Epoch 1/30 - Train Loss: 0.3074, Val Acc: 96.35%\n"
     ]
    },
    {
     "name": "stderr",
     "output_type": "stream",
     "text": [
      "Training Epoch 2/30: 100%|█| 4218/4218 [04:31<00:00, 15.55batch/s, train_acc=95.0628%, train_loss=0.\n",
      "Validation Epoch 2/30: 100%|█| 528/528 [00:27<00:00, 19.16batch/s, val_acc=97.6052%, val_loss=0.0099\n"
     ]
    },
    {
     "name": "stdout",
     "output_type": "stream",
     "text": [
      "Epoch 2/30 - Train Loss: 0.1184, Val Acc: 97.61%\n"
     ]
    },
    {
     "name": "stderr",
     "output_type": "stream",
     "text": [
      "Training Epoch 3/30: 100%|█| 4218/4218 [04:17<00:00, 16.37batch/s, train_acc=96.2825%, train_loss=0.\n",
      "Validation Epoch 3/30: 100%|█| 528/528 [00:28<00:00, 18.73batch/s, val_acc=97.6052%, val_loss=0.0103\n"
     ]
    },
    {
     "name": "stdout",
     "output_type": "stream",
     "text": [
      "Epoch 3/30 - Train Loss: 0.0884, Val Acc: 97.61%\n"
     ]
    },
    {
     "name": "stderr",
     "output_type": "stream",
     "text": [
      "Training Epoch 4/30: 100%|█| 4218/4218 [04:34<00:00, 15.38batch/s, train_acc=96.8152%, train_loss=0.\n",
      "Validation Epoch 4/30: 100%|█| 528/528 [00:28<00:00, 18.22batch/s, val_acc=97.7712%, val_loss=0.0099\n"
     ]
    },
    {
     "name": "stdout",
     "output_type": "stream",
     "text": [
      "Epoch 4/30 - Train Loss: 0.0742, Val Acc: 97.77%\n"
     ]
    },
    {
     "name": "stderr",
     "output_type": "stream",
     "text": [
      "Training Epoch 5/30: 100%|█| 4218/4218 [04:34<00:00, 15.37batch/s, train_acc=97.0546%, train_loss=0.\n",
      "Validation Epoch 5/30: 100%|█| 528/528 [00:28<00:00, 18.79batch/s, val_acc=98.0320%, val_loss=0.0077\n"
     ]
    },
    {
     "name": "stdout",
     "output_type": "stream",
     "text": [
      "Epoch 5/30 - Train Loss: 0.0666, Val Acc: 98.03%\n"
     ]
    },
    {
     "name": "stderr",
     "output_type": "stream",
     "text": [
      "Training Epoch 6/30: 100%|█| 4218/4218 [04:14<00:00, 16.60batch/s, train_acc=97.3339%, train_loss=0.\n",
      "Validation Epoch 6/30: 100%|█| 528/528 [00:27<00:00, 19.35batch/s, val_acc=98.0498%, val_loss=0.0070\n"
     ]
    },
    {
     "name": "stdout",
     "output_type": "stream",
     "text": [
      "Epoch 6/30 - Train Loss: 0.0608, Val Acc: 98.05%\n"
     ]
    },
    {
     "name": "stderr",
     "output_type": "stream",
     "text": [
      "Training Epoch 7/30: 100%|█| 4218/4218 [04:13<00:00, 16.63batch/s, train_acc=97.4792%, train_loss=0.\n",
      "Validation Epoch 7/30: 100%|█| 528/528 [00:27<00:00, 19.55batch/s, val_acc=98.0320%, val_loss=0.0079\n"
     ]
    },
    {
     "name": "stdout",
     "output_type": "stream",
     "text": [
      "Epoch 7/30 - Train Loss: 0.0562, Val Acc: 98.03%\n"
     ]
    },
    {
     "name": "stderr",
     "output_type": "stream",
     "text": [
      "Training Epoch 8/30: 100%|█| 4218/4218 [04:14<00:00, 16.61batch/s, train_acc=97.5095%, train_loss=0.\n",
      "Validation Epoch 8/30: 100%|█| 528/528 [00:27<00:00, 19.08batch/s, val_acc=98.2158%, val_loss=0.0067\n"
     ]
    },
    {
     "name": "stdout",
     "output_type": "stream",
     "text": [
      "Epoch 8/30 - Train Loss: 0.0548, Val Acc: 98.22%\n"
     ]
    },
    {
     "name": "stderr",
     "output_type": "stream",
     "text": [
      "Training Epoch 9/30: 100%|█| 4218/4218 [04:18<00:00, 16.34batch/s, train_acc=97.6733%, train_loss=0.\n",
      "Validation Epoch 9/30: 100%|█| 528/528 [00:27<00:00, 19.27batch/s, val_acc=98.1861%, val_loss=0.0066\n"
     ]
    },
    {
     "name": "stdout",
     "output_type": "stream",
     "text": [
      "Epoch 9/30 - Train Loss: 0.0518, Val Acc: 98.19%\n"
     ]
    },
    {
     "name": "stderr",
     "output_type": "stream",
     "text": [
      "Training Epoch 10/30: 100%|█| 4218/4218 [04:13<00:00, 16.61batch/s, train_acc=97.7192%, train_loss=0\n",
      "Validation Epoch 10/30: 100%|█| 528/528 [00:27<00:00, 19.51batch/s, val_acc=98.1802%, val_loss=0.006\n"
     ]
    },
    {
     "name": "stdout",
     "output_type": "stream",
     "text": [
      "Epoch 10/30 - Train Loss: 0.0502, Val Acc: 98.18%\n"
     ]
    },
    {
     "name": "stderr",
     "output_type": "stream",
     "text": [
      "Training Epoch 11/30: 100%|█| 4218/4218 [04:16<00:00, 16.47batch/s, train_acc=97.7222%, train_loss=0\n",
      "Validation Epoch 11/30: 100%|█| 528/528 [00:27<00:00, 19.30batch/s, val_acc=98.2513%, val_loss=0.006\n"
     ]
    },
    {
     "name": "stdout",
     "output_type": "stream",
     "text": [
      "Epoch 11/30 - Train Loss: 0.0507, Val Acc: 98.25%\n"
     ]
    },
    {
     "name": "stderr",
     "output_type": "stream",
     "text": [
      "Training Epoch 12/30: 100%|█| 4218/4218 [04:17<00:00, 16.36batch/s, train_acc=97.8022%, train_loss=0\n",
      "Validation Epoch 12/30: 100%|█| 528/528 [00:27<00:00, 19.13batch/s, val_acc=98.3343%, val_loss=0.006\n"
     ]
    },
    {
     "name": "stdout",
     "output_type": "stream",
     "text": [
      "Epoch 12/30 - Train Loss: 0.0484, Val Acc: 98.33%\n"
     ]
    },
    {
     "name": "stderr",
     "output_type": "stream",
     "text": [
      "Training Epoch 13/30: 100%|█| 4218/4218 [04:15<00:00, 16.52batch/s, train_acc=97.8274%, train_loss=0\n",
      "Validation Epoch 13/30: 100%|█| 528/528 [00:27<00:00, 19.39batch/s, val_acc=98.3284%, val_loss=0.005\n"
     ]
    },
    {
     "name": "stdout",
     "output_type": "stream",
     "text": [
      "Epoch 13/30 - Train Loss: 0.0475, Val Acc: 98.33%\n"
     ]
    },
    {
     "name": "stderr",
     "output_type": "stream",
     "text": [
      "Training Epoch 14/30: 100%|█| 4218/4218 [04:17<00:00, 16.39batch/s, train_acc=97.8771%, train_loss=0\n",
      "Validation Epoch 14/30: 100%|█| 528/528 [00:27<00:00, 19.53batch/s, val_acc=98.3106%, val_loss=0.005\n"
     ]
    },
    {
     "name": "stdout",
     "output_type": "stream",
     "text": [
      "Epoch 14/30 - Train Loss: 0.0455, Val Acc: 98.31%\n"
     ]
    },
    {
     "name": "stderr",
     "output_type": "stream",
     "text": [
      "Training Epoch 15/30: 100%|█| 4218/4218 [04:14<00:00, 16.59batch/s, train_acc=97.8393%, train_loss=0\n",
      "Validation Epoch 15/30: 100%|█| 528/528 [00:27<00:00, 19.45batch/s, val_acc=98.3402%, val_loss=0.005\n"
     ]
    },
    {
     "name": "stdout",
     "output_type": "stream",
     "text": [
      "Epoch 15/30 - Train Loss: 0.0462, Val Acc: 98.34%\n"
     ]
    },
    {
     "name": "stderr",
     "output_type": "stream",
     "text": [
      "Training Epoch 16/30: 100%|█| 4218/4218 [04:13<00:00, 16.65batch/s, train_acc=97.9186%, train_loss=0\n",
      "Validation Epoch 16/30: 100%|█| 528/528 [00:27<00:00, 19.33batch/s, val_acc=98.3402%, val_loss=0.005\n"
     ]
    },
    {
     "name": "stdout",
     "output_type": "stream",
     "text": [
      "Epoch 16/30 - Train Loss: 0.0453, Val Acc: 98.34%\n"
     ]
    },
    {
     "name": "stderr",
     "output_type": "stream",
     "text": [
      "Training Epoch 17/30: 100%|█| 4218/4218 [04:13<00:00, 16.65batch/s, train_acc=97.9252%, train_loss=0\n",
      "Validation Epoch 17/30: 100%|█| 528/528 [00:27<00:00, 19.44batch/s, val_acc=98.3877%, val_loss=0.005\n"
     ]
    },
    {
     "name": "stdout",
     "output_type": "stream",
     "text": [
      "Epoch 17/30 - Train Loss: 0.0456, Val Acc: 98.39%\n"
     ]
    },
    {
     "name": "stderr",
     "output_type": "stream",
     "text": [
      "Training Epoch 18/30: 100%|█| 4218/4218 [04:14<00:00, 16.56batch/s, train_acc=98.0082%, train_loss=0\n",
      "Validation Epoch 18/30: 100%|█| 528/528 [00:27<00:00, 19.45batch/s, val_acc=98.2928%, val_loss=0.006\n"
     ]
    },
    {
     "name": "stdout",
     "output_type": "stream",
     "text": [
      "Epoch 18/30 - Train Loss: 0.0430, Val Acc: 98.29%\n"
     ]
    },
    {
     "name": "stderr",
     "output_type": "stream",
     "text": [
      "Training Epoch 19/30: 100%|█| 4218/4218 [04:15<00:00, 16.52batch/s, train_acc=97.9497%, train_loss=0\n",
      "Validation Epoch 19/30: 100%|█| 528/528 [00:27<00:00, 19.29batch/s, val_acc=98.3106%, val_loss=0.006\n"
     ]
    },
    {
     "name": "stdout",
     "output_type": "stream",
     "text": [
      "Epoch 19/30 - Train Loss: 0.0448, Val Acc: 98.31%\n"
     ]
    },
    {
     "name": "stderr",
     "output_type": "stream",
     "text": [
      "Training Epoch 20/30: 100%|█| 4218/4218 [04:21<00:00, 16.16batch/s, train_acc=97.9630%, train_loss=0\n",
      "Validation Epoch 20/30: 100%|█| 528/528 [00:27<00:00, 19.55batch/s, val_acc=98.2810%, val_loss=0.006\n"
     ]
    },
    {
     "name": "stdout",
     "output_type": "stream",
     "text": [
      "Epoch 20/30 - Train Loss: 0.0440, Val Acc: 98.28%\n"
     ]
    },
    {
     "name": "stderr",
     "output_type": "stream",
     "text": [
      "Training Epoch 21/30: 100%|█| 4218/4218 [04:13<00:00, 16.63batch/s, train_acc=97.9986%, train_loss=0\n",
      "Validation Epoch 21/30: 100%|█| 528/528 [00:27<00:00, 19.40batch/s, val_acc=98.3877%, val_loss=0.006\n"
     ]
    },
    {
     "name": "stdout",
     "output_type": "stream",
     "text": [
      "Epoch 21/30 - Train Loss: 0.0433, Val Acc: 98.39%\n"
     ]
    },
    {
     "name": "stderr",
     "output_type": "stream",
     "text": [
      "Training Epoch 22/30: 100%|█| 4218/4218 [04:13<00:00, 16.61batch/s, train_acc=97.9979%, train_loss=0\n",
      "Validation Epoch 22/30: 100%|█| 528/528 [00:27<00:00, 19.41batch/s, val_acc=98.4766%, val_loss=0.005\n"
     ]
    },
    {
     "name": "stdout",
     "output_type": "stream",
     "text": [
      "Epoch 22/30 - Train Loss: 0.0438, Val Acc: 98.48%\n"
     ]
    },
    {
     "name": "stderr",
     "output_type": "stream",
     "text": [
      "Training Epoch 23/30: 100%|█| 4218/4218 [04:13<00:00, 16.62batch/s, train_acc=97.9564%, train_loss=0\n",
      "Validation Epoch 23/30: 100%|█| 528/528 [00:26<00:00, 19.62batch/s, val_acc=98.2158%, val_loss=0.008\n"
     ]
    },
    {
     "name": "stdout",
     "output_type": "stream",
     "text": [
      "Epoch 23/30 - Train Loss: 0.0441, Val Acc: 98.22%\n"
     ]
    },
    {
     "name": "stderr",
     "output_type": "stream",
     "text": [
      "Training Epoch 24/30: 100%|█| 4218/4218 [04:09<00:00, 16.90batch/s, train_acc=97.9438%, train_loss=0\n",
      "Validation Epoch 24/30: 100%|█| 528/528 [00:26<00:00, 19.81batch/s, val_acc=98.1743%, val_loss=0.007\n"
     ]
    },
    {
     "name": "stdout",
     "output_type": "stream",
     "text": [
      "Epoch 24/30 - Train Loss: 0.0441, Val Acc: 98.17%\n"
     ]
    },
    {
     "name": "stderr",
     "output_type": "stream",
     "text": [
      "Training Epoch 25/30: 100%|█| 4218/4218 [04:12<00:00, 16.73batch/s, train_acc=97.9964%, train_loss=0\n",
      "Validation Epoch 25/30: 100%|█| 528/528 [00:26<00:00, 19.70batch/s, val_acc=98.3165%, val_loss=0.006\n"
     ]
    },
    {
     "name": "stdout",
     "output_type": "stream",
     "text": [
      "Epoch 25/30 - Train Loss: 0.0439, Val Acc: 98.32%\n"
     ]
    },
    {
     "name": "stderr",
     "output_type": "stream",
     "text": [
      "Training Epoch 26/30: 100%|█| 4218/4218 [04:10<00:00, 16.86batch/s, train_acc=97.9956%, train_loss=0\n",
      "Validation Epoch 26/30: 100%|█| 528/528 [00:26<00:00, 19.80batch/s, val_acc=98.1683%, val_loss=0.007\n"
     ]
    },
    {
     "name": "stdout",
     "output_type": "stream",
     "text": [
      "Epoch 26/30 - Train Loss: 0.0440, Val Acc: 98.17%\n"
     ]
    },
    {
     "name": "stderr",
     "output_type": "stream",
     "text": [
      "Training Epoch 27/30: 100%|█| 4218/4218 [04:10<00:00, 16.85batch/s, train_acc=97.9512%, train_loss=0\n",
      "Validation Epoch 27/30: 100%|█| 528/528 [00:26<00:00, 19.80batch/s, val_acc=98.2810%, val_loss=0.006\n"
     ]
    },
    {
     "name": "stdout",
     "output_type": "stream",
     "text": [
      "Epoch 27/30 - Train Loss: 0.0460, Val Acc: 98.28%\n"
     ]
    },
    {
     "name": "stderr",
     "output_type": "stream",
     "text": [
      "Training Epoch 28/30: 100%|█| 4218/4218 [04:09<00:00, 16.90batch/s, train_acc=98.0875%, train_loss=0\n",
      "Validation Epoch 28/30: 100%|█| 528/528 [00:26<00:00, 19.59batch/s, val_acc=98.2632%, val_loss=0.006\n"
     ]
    },
    {
     "name": "stdout",
     "output_type": "stream",
     "text": [
      "Epoch 28/30 - Train Loss: 0.0416, Val Acc: 98.26%\n"
     ]
    },
    {
     "name": "stderr",
     "output_type": "stream",
     "text": [
      "Training Epoch 29/30: 100%|█| 4218/4218 [04:08<00:00, 16.96batch/s, train_acc=97.9289%, train_loss=0\n",
      "Validation Epoch 29/30: 100%|█| 528/528 [00:26<00:00, 19.57batch/s, val_acc=98.3640%, val_loss=0.006\n"
     ]
    },
    {
     "name": "stdout",
     "output_type": "stream",
     "text": [
      "Epoch 29/30 - Train Loss: 0.0455, Val Acc: 98.36%\n"
     ]
    },
    {
     "name": "stderr",
     "output_type": "stream",
     "text": [
      "Training Epoch 30/30: 100%|█| 4218/4218 [04:09<00:00, 16.91batch/s, train_acc=97.9764%, train_loss=0\n",
      "Validation Epoch 30/30: 100%|█| 528/528 [00:26<00:00, 19.65batch/s, val_acc=98.3402%, val_loss=0.005"
     ]
    },
    {
     "name": "stdout",
     "output_type": "stream",
     "text": [
      "Epoch 30/30 - Train Loss: 0.0444, Val Acc: 98.34%\n"
     ]
    },
    {
     "name": "stderr",
     "output_type": "stream",
     "text": [
      "\n"
     ]
    }
   ],
   "execution_count": 8
  },
  {
   "cell_type": "code",
   "metadata": {
    "ExecuteTime": {
     "end_time": "2025-04-12T01:12:22.106145Z",
     "start_time": "2025-04-12T01:09:26.461274Z"
    }
   },
   "source": [
    "# 🧪 Test accuracy\n",
    "model.eval()\n",
    "correct, total = 0, 0\n",
    "with torch.no_grad():\n",
    "    for images, labels in test_loader:\n",
    "        images, labels = images.to(device), labels.to(device)\n",
    "        outputs = model(images)\n",
    "        _, preds = torch.max(outputs, 1)\n",
    "        correct += (preds == labels).sum().item()\n",
    "        total += labels.size(0)\n",
    "print(f\"Test Accuracy: {100 * correct / total:.2f}%\")"
   ],
   "outputs": [
    {
     "name": "stdout",
     "output_type": "stream",
     "text": [
      "Test Accuracy: 98.09%\n"
     ]
    }
   ],
   "execution_count": 9
  },
  {
   "cell_type": "code",
   "metadata": {
    "ExecuteTime": {
     "end_time": "2025-04-12T01:12:22.365578Z",
     "start_time": "2025-04-12T01:12:22.218227Z"
    }
   },
   "source": [
    "torch.save(model.state_dict(), 'deepfake_cnn_model.pth')\n",
    "print(\"Model saved as deepfake_cnn_model.pth\")"
   ],
   "outputs": [
    {
     "name": "stdout",
     "output_type": "stream",
     "text": [
      "Model saved as deepfake_cnn_model.pth\n"
     ]
    }
   ],
   "execution_count": 10
  }
 ],
 "metadata": {
  "kernelspec": {
   "display_name": "Python 3",
   "language": "python",
   "name": "python3"
  },
  "language_info": {
   "name": "python",
   "version": "3.x"
  }
 },
 "nbformat": 4,
 "nbformat_minor": 2
}
